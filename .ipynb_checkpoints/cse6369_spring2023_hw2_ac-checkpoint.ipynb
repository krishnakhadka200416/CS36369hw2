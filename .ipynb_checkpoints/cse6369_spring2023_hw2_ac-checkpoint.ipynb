{
 "cells": [
  {
   "cell_type": "markdown",
   "metadata": {
    "id": "BSjb-zwKzJSW"
   },
   "source": [
    "# CSE 6369 - Spring 2023 - Homework 2 (Actor-Critic)\n",
    "\n",
    "\n",
    "## Student Name:\n",
    "\n",
    "\n",
    "## Student ID: "
   ]
  },
  {
   "cell_type": "markdown",
   "metadata": {
    "id": "qg05ESogmSng"
   },
   "source": [
    "# Install packages"
   ]
  },
  {
   "cell_type": "code",
   "execution_count": null,
   "metadata": {
    "id": "ZU6o_mdnmMAR"
   },
   "outputs": [],
   "source": [
    "!pip install gymnasium==0.27.1 -q\n",
    "!pip install gymnasium[box2d] -q\n",
    "!pip install moviepy -q\n",
    "!pip install -U kora -q"
   ]
  },
  {
   "cell_type": "markdown",
   "metadata": {
    "id": "lLDP4n6cmEuZ"
   },
   "source": [
    "# Import libraries"
   ]
  },
  {
   "cell_type": "code",
   "execution_count": null,
   "metadata": {
    "id": "-e69d4FGlaGd"
   },
   "outputs": [],
   "source": [
    "import pickle\n",
    "import random\n",
    "import argparse\n",
    "import moviepy\n",
    "import matplotlib.pyplot as plt\n",
    "import seaborn as sns\n",
    "from kora.drive import upload_public\n",
    "from google.colab import drive\n",
    "\n",
    "drive.mount('/content/gdrive')\n",
    "%cd gdrive/MyDrive/hw2/\n",
    "\n",
    "from learning_algorithms import ACTrainer\n",
    "from utils import seed_everything"
   ]
  },
  {
   "cell_type": "markdown",
   "metadata": {
    "id": "A9-qFcWVpzGc"
   },
   "source": [
    "# Train an agent"
   ]
  },
  {
   "cell_type": "code",
   "execution_count": null,
   "metadata": {
    "id": "n0hSISzelkYw"
   },
   "outputs": [],
   "source": [
    "# set simulation parameters\n",
    "params = {\n",
    "    'env_name': 'LunarLander-v2',\n",
    "    'rng_seed': 6369,\n",
    "    'n_rollout': 100,\n",
    "    'n_trajectory_per_rollout': 60,\n",
    "    'n_critic_iter': 1,\n",
    "    'n_critic_epoch': 1,\n",
    "    'hidden_dim': 128,\n",
    "    'actor_lr': 3e-3,\n",
    "    'critic_lr': 3e-4,\n",
    "    'exp_name': 'LunarLander_v2_t0'\n",
    "}\n",
    "\n",
    "# Seed RNGs\n",
    "seed_everything(params['rng_seed'])\n",
    "\n",
    "# Train agent\n",
    "trainer = ACTrainer(params)\n",
    "trainer.run_training_loop()"
   ]
  },
  {
   "cell_type": "markdown",
   "metadata": {
    "id": "MFBDYmdAwWUg"
   },
   "source": [
    "# Display Video"
   ]
  },
  {
   "cell_type": "code",
   "execution_count": null,
   "metadata": {
    "id": "FZn9tuKXwVgZ"
   },
   "outputs": [],
   "source": [
    "# (ref: https://stackoverflow.com/questions/48376580/google-colab-how-to-read-data-from-my-google-drive)\n",
    "# Upload video\n",
    "url = upload_public('LunarLander/rl-video-episode-0.mp4')\n",
    "# Then display it\n",
    "from IPython.display import HTML\n",
    "HTML(f\"\"\"<video src={url} width=500 controls/>\"\"\")"
   ]
  },
  {
   "cell_type": "markdown",
   "metadata": {
    "id": "2hE4ZI8ZocXH"
   },
   "source": [
    "# Visualize learning curve"
   ]
  },
  {
   "cell_type": "code",
   "execution_count": null,
   "metadata": {
    "id": "rSM3mWLnmsYY"
   },
   "outputs": [],
   "source": [
    "# (ref: http://rail.eecs.berkeley.edu/deeprlcourse/static/misc/viz.pdf)\n",
    "file_name = params['exp_name'] + '.pkl'\n",
    "with open(file_name, 'rb') as f:\n",
    "    ro_reward = pickle.load(f)\n",
    "\n",
    "# Plot the data\n",
    "sns.lineplot(data=ro_reward, linestyle='--', label='tr1')\n",
    "plt.xlabel('rollout', fontsize=25, labelpad=-2)\n",
    "plt.ylabel('reward', fontsize=25)\n",
    "plt.title('Learning curve for LunarLander with Actor-Critic', fontsize=30)\n",
    "plt.legend()\n",
    "plt.grid()\n",
    "plt.show()"
   ]
  },
  {
   "cell_type": "code",
   "execution_count": null,
   "metadata": {
    "id": "ffcw6OL1hA2t"
   },
   "outputs": [],
   "source": []
  }
 ],
 "metadata": {
  "colab": {
   "authorship_tag": "ABX9TyN4l7xj22pw01zLpMTgpEai",
   "mount_file_id": "1STsSFS1APvC50PL1kLblD5MJA1UwKoqb",
   "provenance": []
  },
  "gpuClass": "standard",
  "kernelspec": {
   "display_name": "Python 3 (ipykernel)",
   "language": "python",
   "name": "python3"
  },
  "language_info": {
   "codemirror_mode": {
    "name": "ipython",
    "version": 3
   },
   "file_extension": ".py",
   "mimetype": "text/x-python",
   "name": "python",
   "nbconvert_exporter": "python",
   "pygments_lexer": "ipython3",
   "version": "3.9.7"
  }
 },
 "nbformat": 4,
 "nbformat_minor": 1
}
